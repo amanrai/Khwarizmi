{
 "cells": [
  {
   "cell_type": "markdown",
   "metadata": {},
   "source": [
    "# How Numbers Work on Computers"
   ]
  },
  {
   "cell_type": "code",
   "execution_count": 139,
   "metadata": {},
   "outputs": [
    {
     "name": "stdout",
     "output_type": "stream",
     "text": [
      "101 0b1100101\n"
     ]
    }
   ],
   "source": [
    "#Python does not expose the sign bit. its handled internally. By convention, 0 implies positive and 1 implies negative.\n",
    "a = 101\n",
    "print(a, bin(a))"
   ]
  },
  {
   "cell_type": "code",
   "execution_count": 140,
   "metadata": {},
   "outputs": [],
   "source": [
    "def pbin(n): #printable binary, includes the leading 0s; important for our purposes.\n",
    "    k = 8 - n.bit_length()\n",
    "    if n < 0:\n",
    "        return '1'*k + bin(n)[3:] #bin() returns 0b or -0b as a prefix\n",
    "    return '0'*k + bin(n)[2:] #bin() returns 0b or -0b as a prefix"
   ]
  },
  {
   "cell_type": "code",
   "execution_count": 141,
   "metadata": {},
   "outputs": [
    {
     "name": "stdout",
     "output_type": "stream",
     "text": [
      "101\n",
      "01100101 11100101\n"
     ]
    }
   ],
   "source": [
    "x = 0b1100101\n",
    "print(x)\n",
    "y = -101\n",
    "print(pbin(x), pbin(y))"
   ]
  },
  {
   "cell_type": "code",
   "execution_count": 151,
   "metadata": {},
   "outputs": [
    {
     "name": "stdout",
     "output_type": "stream",
     "text": [
      "101 0b1100101\n",
      "50 0b110010\n",
      "25 0b11001\n",
      "12 0b1100\n",
      "6 0b110\n",
      "3 0b11\n",
      "1 0b1\n",
      "0 0b0\n",
      "101 0b1100101\n",
      "202 0b11001010\n",
      "404 0b110010100\n",
      "808 0b1100101000\n",
      "1616 0b11001010000\n",
      "3232 0b110010100000\n",
      "6464 0b1100101000000\n",
      "12928 0b11001010000000\n"
     ]
    }
   ],
   "source": [
    "#right shifting divides the number by 2\n",
    "a = 101\n",
    "print(a, bin(a))\n",
    "for i in range(a.bit_length()):\n",
    "    a >>= 1 # a >>= 1 is equivalent to a = a >> 1\n",
    "    print(a, bin(a))\n",
    "\n",
    "#left shifting multiplies the number by 2\n",
    "a = 101\n",
    "print(a, bin(a))\n",
    "for i in range(a.bit_length()):\n",
    "    a <<= 1\n",
    "    print(a, bin(a)) #Note how a 0 gets added to it. effectively, the most significant bit has shifted one power of two to the right. "
   ]
  },
  {
   "cell_type": "code",
   "execution_count": 143,
   "metadata": {},
   "outputs": [
    {
     "name": "stdout",
     "output_type": "stream",
     "text": [
      "15 15 0xf 0b1111\n"
     ]
    }
   ],
   "source": [
    "#Notation intro\n",
    "print(0b1111, 0xf, hex(0b1111), bin(0xf))\n",
    "\n",
    "#implication being, these are all the same value"
   ]
  },
  {
   "cell_type": "markdown",
   "metadata": {},
   "source": [
    "### Bitwise Operators"
   ]
  },
  {
   "cell_type": "code",
   "execution_count": 153,
   "metadata": {},
   "outputs": [
    {
     "name": "stdout",
     "output_type": "stream",
     "text": [
      "0b10000010\n"
     ]
    }
   ],
   "source": [
    "a = 0b10111110\n",
    "b = 0b11000011\n",
    "print(bin(a & b)) #basic and operation extracts the bits you want."
   ]
  },
  {
   "cell_type": "code",
   "execution_count": 154,
   "metadata": {},
   "outputs": [
    {
     "name": "stdout",
     "output_type": "stream",
     "text": [
      "01001101 8\n",
      "00000101\n",
      "01001000\n"
     ]
    }
   ],
   "source": [
    "a = 77\n",
    "print(pbin(a), a & 0b10101010)\n",
    "print(pbin(a & 0b0000111))  #extract the last 3 bits\n",
    "print(pbin(a & 0b1111000)) #extract the first 4 bits"
   ]
  },
  {
   "cell_type": "code",
   "execution_count": 155,
   "metadata": {},
   "outputs": [
    {
     "data": {
      "text/plain": [
       "13"
      ]
     },
     "execution_count": 155,
     "metadata": {},
     "output_type": "execute_result"
    }
   ],
   "source": [
    "x = 0b0001010\n",
    "y = 0b0000011\n",
    "\n",
    "x + y "
   ]
  },
  {
   "cell_type": "markdown",
   "metadata": {},
   "source": [
    "### Addition (using XOR and AND)"
   ]
  },
  {
   "cell_type": "code",
   "execution_count": 149,
   "metadata": {},
   "outputs": [],
   "source": [
    "def add(x, y): #this implementation is effectively x += y\n",
    "    while y: # keep going until y is 0. then return x.\n",
    "        print(\"---\")\n",
    "        print(pbin(x))  \n",
    "        print(pbin(y))\n",
    "        x, y = x ^ y, (x & y) << 1 # x is xor(x, y) and y is and(x, y) shifted left by 1; the and gives you the carry. if you shift it left by 1, effectively the next most significant bit is to be activated and this bit is to be set to 0, and so on. \n",
    "        print(\"---\")\n",
    "\n",
    "    return x"
   ]
  },
  {
   "cell_type": "code",
   "execution_count": 150,
   "metadata": {},
   "outputs": [
    {
     "name": "stdout",
     "output_type": "stream",
     "text": [
      "---\n",
      "00011010\n",
      "00001011\n",
      "---\n",
      "---\n",
      "00010001\n",
      "00010100\n",
      "---\n",
      "---\n",
      "00000101\n",
      "00100000\n",
      "---\n",
      "---\n",
      "00011010\n",
      "00001011\n",
      "---\n",
      "---\n",
      "00010001\n",
      "00010100\n",
      "---\n",
      "---\n",
      "00000101\n",
      "00100000\n",
      "---\n",
      "26 11 00100101 37\n"
     ]
    }
   ],
   "source": [
    "a = 0b11010\n",
    "b = 0b1011\n",
    "print(a, b, pbin(add(a, b)), add(a, b))"
   ]
  },
  {
   "cell_type": "code",
   "execution_count": null,
   "metadata": {},
   "outputs": [],
   "source": []
  }
 ],
 "metadata": {
  "kernelspec": {
   "display_name": "ml",
   "language": "python",
   "name": "python3"
  },
  "language_info": {
   "codemirror_mode": {
    "name": "ipython",
    "version": 3
   },
   "file_extension": ".py",
   "mimetype": "text/x-python",
   "name": "python",
   "nbconvert_exporter": "python",
   "pygments_lexer": "ipython3",
   "version": "3.11.9"
  }
 },
 "nbformat": 4,
 "nbformat_minor": 2
}
